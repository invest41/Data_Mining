{
  "nbformat": 4,
  "nbformat_minor": 0,
  "metadata": {
    "colab": {
      "name": "Blog_Scraper.ipynb",
      "provenance": [],
      "collapsed_sections": [
        "uQrbL3DbtbgI",
        "2A6b4dYytpB1",
        "1Tr71ZS_0YGO",
        "0ANQO-_csdHx"
      ],
      "authorship_tag": "ABX9TyNXknWYJBmJotFHt5JgVH7O",
      "include_colab_link": true
    },
    "kernelspec": {
      "name": "python3",
      "display_name": "Python 3"
    },
    "language_info": {
      "name": "python"
    }
  },
  "cells": [
    {
      "cell_type": "markdown",
      "metadata": {
        "id": "view-in-github",
        "colab_type": "text"
      },
      "source": [
        "<a href=\"https://colab.research.google.com/github/invest41/Data_Mining/blob/main/Blog_Scraper.ipynb\" target=\"_parent\"><img src=\"https://colab.research.google.com/assets/colab-badge.svg\" alt=\"Open In Colab\"/></a>"
      ]
    },
    {
      "cell_type": "markdown",
      "metadata": {
        "id": "ArNSvsbjnfe3"
      },
      "source": [
        "![Webscraper](https://i.imgur.com/6zM7JBq.png)"
      ]
    },
    {
      "cell_type": "markdown",
      "metadata": {
        "id": "uQrbL3DbtbgI"
      },
      "source": [
        "### Setting Up the Environment"
      ]
    },
    {
      "cell_type": "code",
      "metadata": {
        "id": "NvG-CgzEVW09"
      },
      "source": [
        "import requests as req\n",
        "from bs4 import BeautifulSoup as bs\n",
        "import urllib, ssl, sqlite3, re\n",
        " \n",
        "import pandas as pd, numpy as np"
      ],
      "execution_count": null,
      "outputs": []
    },
    {
      "cell_type": "markdown",
      "metadata": {
        "id": "2A6b4dYytpB1"
      },
      "source": [
        "## Data Mining"
      ]
    },
    {
      "cell_type": "code",
      "metadata": {
        "id": "LCvUIXDuVmrn"
      },
      "source": [
        "url = \"https://hashnode.com/post/my-first-365-days-of-coding-cksiesl90053gwqs1cft93fx6\"\n",
        "data = req.get(url).text"
      ],
      "execution_count": null,
      "outputs": []
    },
    {
      "cell_type": "code",
      "metadata": {
        "id": "RW1bhlng2TKe"
      },
      "source": [
        "#Store in file\n",
        "with open(\"365_days_of_coding.html\", 'w') as fw:\n",
        "  fw.write(data)\n",
        "  fw.close()"
      ],
      "execution_count": null,
      "outputs": []
    },
    {
      "cell_type": "code",
      "metadata": {
        "colab": {
          "base_uri": "https://localhost:8080/"
        },
        "id": "BaR_ApSoV9Sp",
        "outputId": "0a06a1c0-075d-4654-a060-03a6226e8a86"
      },
      "source": [
        "soup = bs(database, 'html')\n",
        "len(str(soup))"
      ],
      "execution_count": 90,
      "outputs": [
        {
          "output_type": "execute_result",
          "data": {
            "text/plain": [
              "95518"
            ]
          },
          "metadata": {},
          "execution_count": 90
        }
      ]
    },
    {
      "cell_type": "code",
      "metadata": {
        "id": "1yR1AAO_XrEz"
      },
      "source": [
        "dct, tags = {}, {}\n",
        "links = [ (content.text,content[\"href\"]) for content in soup.find_all('a') if re.search('https\\S*', content[\"href\"]) ]\n",
        "dct[\"hashnode\"] = links\n",
        " \n",
        "urls = np.asanyarray(links.copy())\n",
        "tags['Anchor'], tags[\"url\"] = urls[:,0], urls[:,1]"
      ],
      "execution_count": null,
      "outputs": []
    },
    {
      "cell_type": "code",
      "metadata": {
        "colab": {
          "base_uri": "https://localhost:8080/"
        },
        "id": "eJC3wiidfOBn",
        "outputId": "c6b9a9ed-8789-4912-f261-4780b8adb39e"
      },
      "source": [
        "for key in tags:\n",
        "  tags[key] = pd.Series(tags[key])\n",
        "  print(key, ' ->', len(tags[key]))"
      ],
      "execution_count": null,
      "outputs": [
        {
          "output_type": "stream",
          "text": [
            "Anchor  -> 35\n",
            "url  -> 35\n"
          ],
          "name": "stdout"
        }
      ]
    },
    {
      "cell_type": "code",
      "metadata": {
        "colab": {
          "base_uri": "https://localhost:8080/"
        },
        "id": "StOZ3R8PRLuO",
        "outputId": "00cb6d00-7540-489e-8459-48dfe6ed98fe"
      },
      "source": [
        "tags"
      ],
      "execution_count": null,
      "outputs": [
        {
          "output_type": "execute_result",
          "data": {
            "text/plain": [
              "{'Anchor': 0                                                      \n",
              " 1                                            Alao D. I.\n",
              " 2                             Published on Aug 19, 2021\n",
              " 3                                                      \n",
              " 4                                                      \n",
              " 5               Programming for Everyone Specialization\n",
              " 6                         Dr. Charles \"Chuck\" Severance\n",
              " 7                                               EndSARS\n",
              " 8                                               EndSARS\n",
              " 9                                               EndSARS\n",
              " 10                                  2020 Lekki shooting\n",
              " 11                                Programming with Mosh\n",
              " 12    My first GitHub repository, depicting my first...\n",
              " 13                               World Quant University\n",
              " 14                               Data Science Nigeria's\n",
              " 15                                   Kaggle Competition\n",
              " 16                                The Sparks Foundation\n",
              " 17                                              Udacity\n",
              " 18                                              HTML5UP\n",
              " 19                                My Deployed Portfolio\n",
              " 20                                                     \n",
              " 21                                    My Latest Project\n",
              " 22                                                     \n",
              " 23        Hamoye Data Science Internship Program (HDSC)\n",
              " 24         Kaggle 30 days of Machine Learning Challenge\n",
              " 25                                    Project Portfolio\n",
              " 26                                               GitHub\n",
              " 27                                              Twitter\n",
              " 28                                               Kaggle\n",
              " 29                                             Linkedin\n",
              " 30                                              Tableau\n",
              " 31                                              #python\n",
              " 32                                        #data-science\n",
              " 33                                    #learning-journey\n",
              " 34                                                     \n",
              " dtype: object, 'url': 0                       https://hashnode.com/@Regressor\n",
              " 1                       https://hashnode.com/@Regressor\n",
              " 2     https://hashnode.com/post/my-first-365-days-of...\n",
              " 3                      https://twitter.com/Wilder_Maxim\n",
              " 4                           https://github.com/invest41\n",
              " 5       https://www.coursera.org/specializations/python\n",
              " 6           https://www.coursera.org/instructor/drchuck\n",
              " 7              https://en.m.wikipedia.org/wiki/End_SARS\n",
              " 8              https://en.m.wikipedia.org/wiki/End_SARS\n",
              " 9              https://en.m.wikipedia.org/wiki/End_SARS\n",
              " 10    https://en.m.wikipedia.org/wiki/2020_Lekki_sho...\n",
              " 11            https://youtube.com/c/programmingwithmosh\n",
              " 12            https://github.com/invest41/Scrabble-Hack\n",
              " 13           https://www.wqu.edu/programs/data-science/\n",
              " 14                  https://www.datasciencenigeria.org/\n",
              " 15    https://www.kaggle.com/c/data-science-nigeria-...\n",
              " 16        https://www.thesparksfoundationsingapore.org/\n",
              " 17    https://www.udacity.com/scholarships/aws-machi...\n",
              " 18                                  https://html5up.net\n",
              " 19      https://invest41.github.io/AlaoDavid.github.io/\n",
              " 20      https://invest41.github.io/AlaoDavid.github.io/\n",
              " 21                   https://cvs-disease.herokuapp.com/\n",
              " 22                   https://cvs-disease.herokuapp.com/\n",
              " 23           https://hamoye.com/data-science-internship\n",
              " 24    https://www.kaggle.com/c/30-days-of-ml/leaderb...\n",
              " 25      https://invest41.github.io/AlaoDavid.github.io/\n",
              " 26                          https://github.com/invest41\n",
              " 27              https://mobile.twitter.com/Wilder_Maxim\n",
              " 28                   https://www.kaggle.com/welcomehere\n",
              " 29    https://www.linkedin.com/in/david-alao-72362113b/\n",
              " 30    https://public.tableau.com/app/profile/alao.david\n",
              " 31                        https://hashnode.com/n/python\n",
              " 32                  https://hashnode.com/n/data-science\n",
              " 33              https://hashnode.com/n/learning-journey\n",
              " 34    https://twitter.com/share?url=https%3A%2F%2Fha...\n",
              " dtype: object}"
            ]
          },
          "metadata": {},
          "execution_count": 65
        }
      ]
    },
    {
      "cell_type": "code",
      "metadata": {
        "id": "4lOUmnsFeuJ1"
      },
      "source": [
        "df = pd.DataFrame(tags)"
      ],
      "execution_count": null,
      "outputs": []
    },
    {
      "cell_type": "code",
      "metadata": {
        "id": "Pv-aJC9onPcc"
      },
      "source": [
        "df.replace('',np.nan, inplace=True)"
      ],
      "execution_count": null,
      "outputs": []
    },
    {
      "cell_type": "markdown",
      "metadata": {
        "id": "1Tr71ZS_0YGO"
      },
      "source": [
        "## Save Data"
      ]
    },
    {
      "cell_type": "code",
      "metadata": {
        "id": "-r_hFLFEyuVr",
        "colab": {
          "base_uri": "https://localhost:8080/"
        },
        "outputId": "d4e8f88d-153c-4f87-8e4a-0de301983935"
      },
      "source": [
        "from google.colab import drive\n",
        "drive.mount('/gdrive')"
      ],
      "execution_count": null,
      "outputs": [
        {
          "output_type": "stream",
          "text": [
            "Mounted at /gdrive\n"
          ],
          "name": "stdout"
        }
      ]
    },
    {
      "cell_type": "code",
      "metadata": {
        "id": "kb9FPG-8lcrG",
        "colab": {
          "base_uri": "https://localhost:8080/"
        },
        "outputId": "dadc8751-a563-4bf5-a24c-000c8656dcab"
      },
      "source": [
        "dir =   '/gdrive/My Drive/Scrapped_Data/'\n",
        "!mkdir dir\n",
        "df.to_csv(dir+\"my_first_365days_coding_links.csv\", index=False)\n",
        " \n",
        "print (\"Saved to\", dir[:-1])"
      ],
      "execution_count": null,
      "outputs": [
        {
          "output_type": "stream",
          "text": [
            "Saved to /gdrive/My Drive/Scrapped_Data\n"
          ],
          "name": "stdout"
        }
      ]
    },
    {
      "cell_type": "markdown",
      "metadata": {
        "id": "0ANQO-_csdHx"
      },
      "source": [
        "# The End"
      ]
    },
    {
      "cell_type": "markdown",
      "metadata": {
        "id": "1nWt7JAS2kPx"
      },
      "source": [
        " \n",
        "<p>\n",
        "  Author: Alao David I. <br/>\n",
        "  Date: 20-08-2021\n",
        "  <!--ul>\n",
        "    <li>Author: Alao David I.</li>\n",
        "    <li>Date: 12th of Aug. 2021</li>\n",
        "  </ul-->\n",
        " \n",
        "  <a href=\"https://bit.ly/3kkaHhz\">\n",
        "    <img align=\"right\" height=100 width=100 src=\"https://cvs-disease.herokuapp.com/static/images/profile.259def32692b.jpeg\" />\n",
        "  </a>\n",
        "</p>\n",
        "\n",
        "<table>\n",
        "<tbody>\n",
        "<tr>\n",
        "<td><a href=\"https://invest41.github.io/AlaoDavid.github.io/\" target=\"_blank\">Project Portfolio</a></td>\n",
        "<td><a href=\"https://github.com/invest41\" target=\"_blank\">GitHub</a></td>\n",
        "<td><a href=\"https://mobile.twitter.com/Wilder_Maxim\" target=\"_blank\">Twitter</a></td>\n",
        "<td><a href=\"https://www.kaggle.com/welcomehere\" target=\"_blank\">Kaggle</a></td>\n",
        "<td><a href=\"https://www.linkedin.com/in/david-alao-72362113b/\" target=\"_blank\">Linkedin</a></td>\n",
        "<td><a href=\"https://public.tableau.com/app/profile/alao.david\" target=\"_blank\">Tableau</a></td>\n",
        "</tbody>\n",
        "</table>"
      ]
    }
  ]
}