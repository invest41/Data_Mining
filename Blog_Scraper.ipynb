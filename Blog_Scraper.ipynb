{
  "nbformat": 4,
  "nbformat_minor": 0,
  "metadata": {
    "colab": {
      "name": "Blog_Scraper.ipynb",
      "provenance": [],
      "collapsed_sections": [
        "uQrbL3DbtbgI",
        "2A6b4dYytpB1",
        "1Tr71ZS_0YGO",
        "0ANQO-_csdHx"
      ],
      "authorship_tag": "ABX9TyPnC3Vt22xYOTWQUVJ+w1Qs",
      "include_colab_link": true
    },
    "kernelspec": {
      "name": "python3",
      "display_name": "Python 3"
    },
    "language_info": {
      "name": "python"
    }
  },
  "cells": [
    {
      "cell_type": "markdown",
      "metadata": {
        "id": "view-in-github",
        "colab_type": "text"
      },
      "source": [
        "<a href=\"https://colab.research.google.com/github/invest41/Data_Mining/blob/main/Blog_Scraper.ipynb\" target=\"_parent\"><img src=\"https://colab.research.google.com/assets/colab-badge.svg\" alt=\"Open In Colab\"/></a>"
      ]
    },
    {
      "cell_type": "markdown",
      "metadata": {
        "id": "ArNSvsbjnfe3"
      },
      "source": [
        "![Webscraper](https://i.imgur.com/6zM7JBq.png)"
      ]
    },
    {
      "cell_type": "markdown",
      "metadata": {
        "id": "uQrbL3DbtbgI"
      },
      "source": [
        "### Setting Up the Environment"
      ]
    },
    {
      "cell_type": "code",
      "metadata": {
        "id": "NvG-CgzEVW09"
      },
      "source": [
        "import requests as req\n",
        "from bs4 import BeautifulSoup as bs\n",
        "import urllib, ssl, sqlite3, re\n",
        "from IPython import display\n",
        " \n",
        "import pandas as pd, numpy as np"
      ],
      "execution_count": null,
      "outputs": []
    },
    {
      "cell_type": "code",
      "metadata": {
        "id": "KbYlrts3hevy"
      },
      "source": [
        "from google.colab import drive\n",
        "drive.mount('/content/drive')"
      ],
      "execution_count": null,
      "outputs": []
    },
    {
      "cell_type": "markdown",
      "metadata": {
        "id": "2A6b4dYytpB1"
      },
      "source": [
        "## Data Mining"
      ]
    },
    {
      "cell_type": "code",
      "metadata": {
        "id": "LCvUIXDuVmrn"
      },
      "source": [
        "url = \"https://hashnode.com/post/my-first-365-days-of-coding-cksiesl90053gwqs1cft93fx6\"\n",
        "data = req.get(url).text"
      ],
      "execution_count": null,
      "outputs": []
    },
    {
      "cell_type": "code",
      "metadata": {
        "id": "RW1bhlng2TKe"
      },
      "source": [
        "#Store in file\n",
        "html = \"365_days_of_coding.html\"\n",
        "with open(html, 'w') as fw:\n",
        "  fw.write(data)\n",
        "  fw.close()"
      ],
      "execution_count": null,
      "outputs": []
    },
    {
      "cell_type": "code",
      "metadata": {
        "colab": {
          "base_uri": "https://localhost:8080/"
        },
        "id": "BaR_ApSoV9Sp",
        "outputId": "c16536ca-15d4-4682-be41-f48f2d23ac8d"
      },
      "source": [
        "soup = bs(data, 'html')\n",
        "len(str(soup))"
      ],
      "execution_count": null,
      "outputs": [
        {
          "output_type": "execute_result",
          "data": {
            "text/plain": [
              "174836"
            ]
          },
          "metadata": {},
          "execution_count": 46
        }
      ]
    },
    {
      "cell_type": "code",
      "metadata": {
        "id": "_9skyBoReljc"
      },
      "source": [
        "display.display_html(data, raw=True)"
      ],
      "execution_count": null,
      "outputs": []
    },
    {
      "cell_type": "code",
      "metadata": {
        "id": "1yR1AAO_XrEz"
      },
      "source": [
        "dct, tags = {}, {}\n",
        "links = [ (content.text,content[\"href\"]) for content in soup.find_all('a') if re.search('https\\S*', content[\"href\"]) ]\n",
        "dct[\"hashnode\"] = links\n",
        " \n",
        "urls = np.asanyarray(links.copy())\n",
        "tags['Anchor'], tags[\"url\"] = urls[:,0], urls[:,1]"
      ],
      "execution_count": null,
      "outputs": []
    },
    {
      "cell_type": "code",
      "metadata": {
        "colab": {
          "base_uri": "https://localhost:8080/"
        },
        "id": "eJC3wiidfOBn",
        "outputId": "b9b7c959-cc0c-4c9c-a718-e96773b8d802"
      },
      "source": [
        "for key in tags:\n",
        "  tags[key] = pd.Series(tags[key])\n",
        "  print(key, ' ->', len(tags[key]))"
      ],
      "execution_count": null,
      "outputs": [
        {
          "output_type": "stream",
          "text": [
            "Anchor  -> 45\n",
            "url  -> 45\n"
          ],
          "name": "stdout"
        }
      ]
    },
    {
      "cell_type": "code",
      "metadata": {
        "colab": {
          "base_uri": "https://localhost:8080/"
        },
        "id": "StOZ3R8PRLuO",
        "outputId": "6e62e0b9-61d4-4765-a5af-487b5c3c94b2"
      },
      "source": [
        "tags"
      ],
      "execution_count": null,
      "outputs": [
        {
          "output_type": "execute_result",
          "data": {
            "text/plain": [
              "{'Anchor': 0                                     Project Portfolio\n",
              " 1                               Facebook Milestone Post\n",
              " 2                 Linkedin Deep Learning Milestone Code\n",
              " 3     .css-ms8fcx{width:1.25rem;height:1.25rem;fill:...\n",
              " 4                                                      \n",
              " 5                                                      \n",
              " 6                                                      \n",
              " 7                                                      \n",
              " 8     .css-f4162x{display:block;width:100%;border-ra...\n",
              " 9                                            Alao D. I.\n",
              " 10    Published on .css-16ceglb{font-weight:600;}Aug...\n",
              " 11    .css-1se2ttb{width:1rem;height:1rem;fill:curre...\n",
              " 12                                                     \n",
              " 13              Programming for Everyone Specialization\n",
              " 14                        Dr. Charles \"Chuck\" Severance\n",
              " 15                                              EndSARS\n",
              " 16                                              EndSARS\n",
              " 17                                              EndSARS\n",
              " 18                                  2020 Lekki shooting\n",
              " 19                                Programming with Mosh\n",
              " 20    My first GitHub repository, depicting my first...\n",
              " 21                               World Quant University\n",
              " 22                               Data Science Nigeria's\n",
              " 23                                   Kaggle Competition\n",
              " 24                                The Sparks Foundation\n",
              " 25                                              Udacity\n",
              " 26                                              HTML5UP\n",
              " 27                                My Deployed Portfolio\n",
              " 28                                                     \n",
              " 29                                    My Latest Project\n",
              " 30                                                     \n",
              " 31        Hamoye Data Science Internship Program (HDSC)\n",
              " 32         Kaggle 30 days of Machine Learning Challenge\n",
              " 33                                    Project Portfolio\n",
              " 34                                               GitHub\n",
              " 35                                              Twitter\n",
              " 36                                               Kaggle\n",
              " 37                                             Linkedin\n",
              " 38                                              Tableau\n",
              " 39                                                     \n",
              " 40                                                     \n",
              " 41                                                     \n",
              " 42                                              Privacy\n",
              " 43                                                Terms\n",
              " 44    .css-5l2a7j{width:8rem;fill:currentColor;}.css...\n",
              " dtype: object, 'url': 0       https://invest41.github.io/AlaoDavid.github.io/\n",
              " 1     https://www.facebook.com/groups/DevCLagos/perm...\n",
              " 2     https://www.linkedin.com/posts/david-alao-7236...\n",
              " 3                  https://www.twitter.com/Wilder_Maxim\n",
              " 4                           https://github.com/invest41\n",
              " 5                       https://hashnode.com/@Regressor\n",
              " 6     https://www.linkedin.com/in/david-alao-72362113b/\n",
              " 7       https://invest41.github.io/AlaoDavid.github.io/\n",
              " 8                       https://hashnode.com/@Regressor\n",
              " 9                       https://hashnode.com/@Regressor\n",
              " 10    https://alaodavid.hashnode.dev/my-first-365-da...\n",
              " 11                     https://twitter.com/Wilder_Maxim\n",
              " 12                          https://github.com/invest41\n",
              " 13      https://www.coursera.org/specializations/python\n",
              " 14          https://www.coursera.org/instructor/drchuck\n",
              " 15             https://en.m.wikipedia.org/wiki/End_SARS\n",
              " 16             https://en.m.wikipedia.org/wiki/End_SARS\n",
              " 17             https://en.m.wikipedia.org/wiki/End_SARS\n",
              " 18    https://en.m.wikipedia.org/wiki/2020_Lekki_sho...\n",
              " 19            https://youtube.com/c/programmingwithmosh\n",
              " 20            https://github.com/invest41/Scrabble-Hack\n",
              " 21           https://www.wqu.edu/programs/data-science/\n",
              " 22                  https://www.datasciencenigeria.org/\n",
              " 23    https://www.kaggle.com/c/data-science-nigeria-...\n",
              " 24        https://www.thesparksfoundationsingapore.org/\n",
              " 25    https://www.udacity.com/scholarships/aws-machi...\n",
              " 26                                  https://html5up.net\n",
              " 27      https://invest41.github.io/AlaoDavid.github.io/\n",
              " 28      https://invest41.github.io/AlaoDavid.github.io/\n",
              " 29                   https://cvs-disease.herokuapp.com/\n",
              " 30                   https://cvs-disease.herokuapp.com/\n",
              " 31           https://hamoye.com/data-science-internship\n",
              " 32    https://www.kaggle.com/c/30-days-of-ml/leaderb...\n",
              " 33      https://invest41.github.io/AlaoDavid.github.io/\n",
              " 34                          https://github.com/invest41\n",
              " 35              https://mobile.twitter.com/Wilder_Maxim\n",
              " 36                   https://www.kaggle.com/welcomehere\n",
              " 37    https://www.linkedin.com/in/david-alao-72362113b/\n",
              " 38    https://public.tableau.com/app/profile/alao.david\n",
              " 39    https://twitter.com/share?url=https%3A%2F%2Fal...\n",
              " 40    http://www.reddit.com/submit?title=My%20First%...\n",
              " 41    https://twitter.com/share?url=https%3A%2F%2Fal...\n",
              " 42      https://hashnode.com/privacy?source=blog-footer\n",
              " 43        https://hashnode.com/terms?source=blog-footer\n",
              " 44              https://hashnode.com?source=blog-footer\n",
              " dtype: object}"
            ]
          },
          "metadata": {},
          "execution_count": 50
        }
      ]
    },
    {
      "cell_type": "code",
      "metadata": {
        "id": "4lOUmnsFeuJ1"
      },
      "source": [
        "df = pd.DataFrame(tags)"
      ],
      "execution_count": null,
      "outputs": []
    },
    {
      "cell_type": "code",
      "metadata": {
        "id": "Pv-aJC9onPcc"
      },
      "source": [
        "df.replace('',np.nan, inplace=True)"
      ],
      "execution_count": null,
      "outputs": []
    },
    {
      "cell_type": "markdown",
      "metadata": {
        "id": "1Tr71ZS_0YGO"
      },
      "source": [
        "## Save Data"
      ]
    },
    {
      "cell_type": "code",
      "metadata": {
        "id": "-r_hFLFEyuVr",
        "colab": {
          "base_uri": "https://localhost:8080/"
        },
        "outputId": "e90b1457-bd17-45f8-d11c-ce9839cd11f3"
      },
      "source": [
        "from google.colab import drive\n",
        "drive.mount('/gdrive')"
      ],
      "execution_count": null,
      "outputs": [
        {
          "output_type": "stream",
          "text": [
            "Mounted at /gdrive\n"
          ],
          "name": "stdout"
        }
      ]
    },
    {
      "cell_type": "code",
      "metadata": {
        "id": "kb9FPG-8lcrG",
        "colab": {
          "base_uri": "https://localhost:8080/"
        },
        "outputId": "3d7e4c64-8f3d-46c6-e380-3cdb19b4f93d"
      },
      "source": [
        "dir =   '/gdrive/My Drive/Scrapped_Data/'\n",
        "!mkdir dir\n",
        "df.to_csv(dir+'my_first_365days_coding_links.csv', index=False)\n",
        " \n",
        "print (\"Saved to\", dir[:-1])"
      ],
      "execution_count": null,
      "outputs": [
        {
          "output_type": "stream",
          "text": [
            "Saved to /gdrive/My Drive/Scrapped_Data\n"
          ],
          "name": "stdout"
        }
      ]
    },
    {
      "cell_type": "markdown",
      "metadata": {
        "id": "0ANQO-_csdHx"
      },
      "source": [
        "# The End"
      ]
    },
    {
      "cell_type": "markdown",
      "metadata": {
        "id": "1nWt7JAS2kPx"
      },
      "source": [
        " \n",
        "<p>\n",
        "  Author: Alao David I. <br/>\n",
        "  Date: 20-08-2021\n",
        "  <!--ul>\n",
        "    <li>Author: Alao David I.</li>\n",
        "    <li>Date: 12th of Aug. 2021</li>\n",
        "  </ul-->\n",
        " \n",
        "  <a href=\"https://bit.ly/3kkaHhz\">\n",
        "    <img align=\"right\" height=100 width=100 src=\"https://cvs-disease.herokuapp.com/static/images/profile.259def32692b.jpeg\" />\n",
        "  </a>\n",
        "</p>\n",
        "\n",
        "<table>\n",
        "<tbody>\n",
        "<tr>\n",
        "<td><a href=\"https://invest41.github.io/AlaoDavid.github.io/\" target=\"_blank\">Project Portfolio</a></td>\n",
        "<td><a href=\"https://github.com/invest41\" target=\"_blank\">GitHub</a></td>\n",
        "<td><a href=\"https://mobile.twitter.com/Wilder_Maxim\" target=\"_blank\">Twitter</a></td>\n",
        "<td><a href=\"https://www.kaggle.com/welcomehere\" target=\"_blank\">Kaggle</a></td>\n",
        "<td><a href=\"https://www.linkedin.com/in/david-alao-72362113b/\" target=\"_blank\">Linkedin</a></td>\n",
        "<td><a href=\"https://public.tableau.com/app/profile/alao.david\" target=\"_blank\">Tableau</a></td>\n",
        "</tbody>\n",
        "</table>"
      ]
    }
  ]
}