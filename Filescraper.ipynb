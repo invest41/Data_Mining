{
  "nbformat": 4,
  "nbformat_minor": 0,
  "metadata": {
    "colab": {
      "name": "Filescraper.ipynb",
      "provenance": [],
      "collapsed_sections": [
        "uQrbL3DbtbgI",
        "2A6b4dYytpB1",
        "1Tr71ZS_0YGO",
        "0ANQO-_csdHx"
      ],
      "authorship_tag": "ABX9TyM0bBLtNZYugLiXWtG7oAot",
      "include_colab_link": true
    },
    "kernelspec": {
      "name": "python3",
      "display_name": "Python 3"
    },
    "language_info": {
      "name": "python"
    }
  },
  "cells": [
    {
      "cell_type": "markdown",
      "metadata": {
        "id": "view-in-github",
        "colab_type": "text"
      },
      "source": [
        "<a href=\"https://colab.research.google.com/github/invest41/Data_Mining/blob/main/Filescraper.ipynb\" target=\"_parent\"><img src=\"https://colab.research.google.com/assets/colab-badge.svg\" alt=\"Open In Colab\"/></a>"
      ]
    },
    {
      "cell_type": "markdown",
      "metadata": {
        "id": "ArNSvsbjnfe3"
      },
      "source": [
        "![Webscraper](https://encrypted-tbn0.gstatic.com/images?q=tbn:ANd9GcSgkYYBP6CSsyUlEaG_OMFG2p11Xhxet3ZE0w&usqp=CAU)"
      ]
    },
    {
      "cell_type": "markdown",
      "metadata": {
        "id": "uQrbL3DbtbgI"
      },
      "source": [
        "### Setting Up the Environment"
      ]
    },
    {
      "cell_type": "code",
      "metadata": {
        "id": "NvG-CgzEVW09"
      },
      "source": [
        "import requests as req\n",
        "from bs4 import BeautifulSoup as bs\n",
        "import urllib, ssl, sqlite3\n",
        " \n",
        "import pandas as pd, numpy as np"
      ],
      "execution_count": null,
      "outputs": []
    },
    {
      "cell_type": "markdown",
      "metadata": {
        "id": "2A6b4dYytpB1"
      },
      "source": [
        "## Data Mining"
      ]
    },
    {
      "cell_type": "code",
      "metadata": {
        "id": "LCvUIXDuVmrn"
      },
      "source": [
        "store = \"https://featurelabs-static.s3.amazonaws.com\"\n",
        "database = req.get(store).text"
      ],
      "execution_count": null,
      "outputs": []
    },
    {
      "cell_type": "code",
      "metadata": {
        "colab": {
          "base_uri": "https://localhost:8080/"
        },
        "id": "BaR_ApSoV9Sp",
        "outputId": "e360baf1-3138-4b6c-8a99-cc8bfbf2c54a"
      },
      "source": [
        "soup = bs(database, 'lxml')\n",
        "soup"
      ],
      "execution_count": null,
      "outputs": [
        {
          "output_type": "execute_result",
          "data": {
            "text/plain": [
              "<?xml version=\"1.0\" encoding=\"UTF-8\"?><html><body><listbucketresult xmlns=\"http://s3.amazonaws.com/doc/2006-03-01/\"><name>featurelabs-static</name><prefix></prefix><marker></marker><maxkeys>1000</maxkeys><istruncated>false</istruncated><contents><key>OpenSource_OpenGraph_1200x630px-evalml.png</key><lastmodified>2021-01-28T19:54:41.000Z</lastmodified><etag>\"d11e7678399c259cd7ea37cc1788db08\"</etag><size>119144</size><storageclass>STANDARD</storageclass></contents><contents><key>OpenSource_OpenGraph_1200x630px-featuretools.png</key><lastmodified>2021-01-21T20:36:42.000Z</lastmodified><etag>\"f12b7710083ecf9b35210a98ee44e1ca\"</etag><size>98252</size><storageclass>STANDARD</storageclass></contents><contents><key>Take-Home Interview Content/</key><lastmodified>2020-12-10T16:30:13.000Z</lastmodified><etag>\"d41d8cd98f00b204e9800998ecf8427e\"</etag><size>0</size><storageclass>STANDARD</storageclass></contents><contents><key>Take-Home Interview Content/EvalML Take-Home Interview.zip</key><lastmodified>2020-12-10T16:36:18.000Z</lastmodified><etag>\"a71ffbe8b0a81a5df9e9cde5da5d7312\"</etag><size>3586</size><storageclass>STANDARD</storageclass></contents><contents><key>Take-Home Interview Content/Predictive Server - Backend Take-Home Interview.zip</key><lastmodified>2020-12-18T21:46:00.000Z</lastmodified><etag>\"14b2ffe63a4cb4851b641f8235ee0ef1\"</etag><size>542590</size><storageclass>STANDARD</storageclass></contents><contents><key>Take-Home Interview Content/Predictive Server - Frontend Take-Home Interview.zip</key><lastmodified>2020-12-10T16:30:57.000Z</lastmodified><etag>\"f927232336fc9ac9fd6142ec1f2af77d\"</etag><size>1469548</size><storageclass>STANDARD</storageclass></contents><contents><key>Take-Home Interview Content/ml_tools_multiiple_tables_dataset.zip</key><lastmodified>2021-03-03T23:42:56.000Z</lastmodified><etag>\"5e4e6225dbea1c576d1cfd626fd35870\"</etag><size>10371</size><owner><id>da6b1c94f3367024e23b0e2fe0122f27b32de63c3e7a3eb1db4dd254ecf6f807</id><displayname>max</displayname></owner><storageclass>STANDARD</storageclass></contents><contents><key>Take-Home Interview Content/ml_tools_single_table_dataset.zip</key><lastmodified>2021-03-03T23:43:04.000Z</lastmodified><etag>\"f4ed3ef8a5fd15f609ff2171a928ef7b\"</etag><size>2502205</size><owner><id>da6b1c94f3367024e23b0e2fe0122f27b32de63c3e7a3eb1db4dd254ecf6f807</id><displayname>max</displayname></owner><storageclass>STANDARD</storageclass></contents><contents><key>Take-Home Interview Content/ml_tools_take_home.zip</key><lastmodified>2021-03-03T18:40:35.000Z</lastmodified><etag>\"e0620f1be6fa41e68c471a5be1ba0d6e\"</etag><size>1046</size><storageclass>STANDARD</storageclass></contents><contents><key>US_IncomeByZip.zip</key><lastmodified>2019-01-18T20:01:23.000Z</lastmodified><etag>\"2c0dfe575b07431214e756b7815c8e25\"</etag><size>5859400</size><storageclass>STANDARD</storageclass></contents><contents><key>binary_may_sales.csv</key><lastmodified>2018-10-26T16:08:04.000Z</lastmodified><etag>\"0dfdb1fb20b53445c96b11b651ef3957\"</etag><size>88550</size><storageclass>STANDARD</storageclass></contents><contents><key>bots_flight_data_2017/</key><lastmodified>2018-06-18T20:23:11.000Z</lastmodified><etag>\"d41d8cd98f00b204e9800998ecf8427e\"</etag><size>0</size><storageclass>STANDARD</storageclass></contents><contents><key>bots_flight_data_2017/On_Time_On_Time_Performance_2017_1.zip</key><lastmodified>2018-06-18T20:23:30.000Z</lastmodified><etag>\"58528b80b3d3f628c9bce48b4f1756b0-2\"</etag><size>23374867</size><storageclass>STANDARD</storageclass></contents><contents><key>bots_flight_data_2017/On_Time_On_Time_Performance_2017_10.zip</key><lastmodified>2018-06-18T20:32:36.000Z</lastmodified><etag>\"1186f0b1e69f40dedeee277484a68feb-2\"</etag><size>25214008</size><storageclass>STANDARD</storageclass></contents><contents><key>bots_flight_data_2017/On_Time_On_Time_Performance_2017_11.zip</key><lastmodified>2018-06-18T20:33:16.000Z</lastmodified><etag>\"61dd0ce40bb46b5f109e1d3b27a69856-2\"</etag><size>23395039</size><storageclass>STANDARD</storageclass></contents><contents><key>bots_flight_data_2017/On_Time_On_Time_Performance_2017_12.zip</key><lastmodified>2018-06-18T20:33:51.000Z</lastmodified><etag>\"f12682b8b35ca4ad270f1cf1d0887e8d-2\"</etag><size>24820939</size><storageclass>STANDARD</storageclass></contents><contents><key>bots_flight_data_2017/On_Time_On_Time_Performance_2017_2.zip</key><lastmodified>2018-06-18T20:24:27.000Z</lastmodified><etag>\"b1e3a18535740456d081c23a5d7c2063-2\"</etag><size>20986874</size><storageclass>STANDARD</storageclass></contents><contents><key>bots_flight_data_2017/On_Time_On_Time_Performance_2017_3.zip</key><lastmodified>2018-06-18T20:25:20.000Z</lastmodified><etag>\"dff7f67111d5412bf33642e70a2bba09-2\"</etag><size>25583975</size><storageclass>STANDARD</storageclass></contents><contents><key>bots_flight_data_2017/On_Time_On_Time_Performance_2017_4.zip</key><lastmodified>2018-06-18T20:26:40.000Z</lastmodified><etag>\"64156a2a743bed5243de0a44561d69db-2\"</etag><size>24778862</size><storageclass>STANDARD</storageclass></contents><contents><key>bots_flight_data_2017/On_Time_On_Time_Performance_2017_5.zip</key><lastmodified>2018-06-18T20:27:35.000Z</lastmodified><etag>\"db93d203f631022528558ae213d0d087-2\"</etag><size>25725655</size><storageclass>STANDARD</storageclass></contents><contents><key>bots_flight_data_2017/On_Time_On_Time_Performance_2017_6.zip</key><lastmodified>2018-06-18T20:28:28.000Z</lastmodified><etag>\"6f46f9a6864d338ac7d34acc9a141435-2\"</etag><size>26589796</size><storageclass>STANDARD</storageclass></contents><contents><key>bots_flight_data_2017/On_Time_On_Time_Performance_2017_7.zip</key><lastmodified>2018-06-18T20:30:01.000Z</lastmodified><etag>\"acd767a25e8ba623da50cd599c18be24-2\"</etag><size>26793241</size><storageclass>STANDARD</storageclass></contents><contents><key>bots_flight_data_2017/On_Time_On_Time_Performance_2017_8.zip</key><lastmodified>2018-06-18T20:30:41.000Z</lastmodified><etag>\"eeb14bf0240dabf121eedc18f552fadf-2\"</etag><size>27330699</size><storageclass>STANDARD</storageclass></contents><contents><key>bots_flight_data_2017/On_Time_On_Time_Performance_2017_9.zip</key><lastmodified>2018-06-18T20:31:22.000Z</lastmodified><etag>\"9feeee91f6e079b489f9c6e4d6d43c47-2\"</etag><size>23797868</size><storageclass>STANDARD</storageclass></contents><contents><key>grocery_orders_es.tar</key><lastmodified>2019-08-29T02:29:36.000Z</lastmodified><etag>\"28705267a844b841d6e10ea5b2c8c2b6-1\"</etag><size>13619200</size><storageclass>STANDARD</storageclass></contents><contents><key>hn-data/</key><lastmodified>2020-04-10T17:42:19.000Z</lastmodified><etag>\"d41d8cd98f00b204e9800998ecf8427e\"</etag><size>0</size><storageclass>STANDARD</storageclass></contents><contents><key>hn-data/data.parquet.gzip</key><lastmodified>2020-04-10T20:39:37.000Z</lastmodified><etag>\"f9be4c6738262dcdb7e2440ee1a2191e-11\"</etag><size>175327080</size><storageclass>STANDARD_IA</storageclass></contents><contents><key>instacart_es.tar.gz</key><lastmodified>2019-08-27T15:26:19.000Z</lastmodified><etag>\"aaea88c20ce39ae622358d82346f3856-1\"</etag><size>2734663</size><storageclass>STANDARD</storageclass></contents><contents><key>lead_scoring/</key><lastmodified>2019-03-14T14:44:16.000Z</lastmodified><etag>\"d41d8cd98f00b204e9800998ecf8427e\"</etag><size>0</size><storageclass>STANDARD</storageclass></contents><contents><key>lead_scoring/contacts_100/contacts.csv</key><lastmodified>2019-03-14T15:37:10.000Z</lastmodified><etag>\"46c048ea7be968d727639266ff4dae98\"</etag><size>14356</size><storageclass>STANDARD</storageclass></contents><contents><key>lead_scoring/contacts_100/interactions.csv</key><lastmodified>2019-03-14T15:37:10.000Z</lastmodified><etag>\"d695a5952773ed01f1f31967374ab88a\"</etag><size>54868</size><storageclass>STANDARD</storageclass></contents><contents><key>lead_scoring/contacts_100/previous_leads.csv</key><lastmodified>2019-03-14T15:37:11.000Z</lastmodified><etag>\"c98f0a227ea55459a3a19846941007f8\"</etag><size>2478</size><storageclass>STANDARD</storageclass></contents><contents><key>lead_scoring/contacts_100000/contacts.csv</key><lastmodified>2019-03-14T17:33:58.000Z</lastmodified><etag>\"16c19ce6a0c285b924101846cac76f3b-2\"</etag><size>15034847</size><storageclass>STANDARD</storageclass></contents><contents><key>lead_scoring/contacts_100000/interactions.csv</key><lastmodified>2019-03-14T17:33:58.000Z</lastmodified><etag>\"a368dae699f995031f48b5a24a68cb29-8\"</etag><size>66738534</size><storageclass>STANDARD</storageclass></contents><contents><key>lead_scoring/contacts_100000/previous_leads.csv</key><lastmodified>2019-03-14T17:37:22.000Z</lastmodified><etag>\"a946b231457d4ae2a4203a373f58c259\"</etag><size>2244031</size><storageclass>STANDARD</storageclass></contents><contents><key>lead_scoring/data/.ipynb_checkpoints/previous_leads-checkpoint.csv</key><lastmodified>2019-08-11T01:24:49.000Z</lastmodified><etag>\"2a488fcddffce8f1421daa65cfa9d187\"</etag><size>22433</size><storageclass>STANDARD</storageclass></contents><contents><key>lead_scoring/data/customers.csv</key><lastmodified>2019-08-13T20:14:25.000Z</lastmodified><etag>\"9d5d3f2ca6559e950f9d2be793fdd1e4\"</etag><size>110231</size><storageclass>STANDARD</storageclass></contents><contents><key>lead_scoring/data/interactions.csv</key><lastmodified>2019-08-13T20:14:25.000Z</lastmodified><etag>\"cfb8a58e16341a9eff63b6ba1550c3e3\"</etag><size>478277</size><storageclass>STANDARD</storageclass></contents><contents><key>lead_scoring/data/previous_leads.csv</key><lastmodified>2019-08-13T20:14:25.000Z</lastmodified><etag>\"5ed4440ac6a953aa2ccfe03ad2b64889\"</etag><size>21468</size><storageclass>STANDARD</storageclass></contents><contents><key>lead_scoring/mappings_contacts_100/contacts.csv</key><lastmodified>2019-03-14T15:37:13.000Z</lastmodified><etag>\"3bf271e66c084c83d53cb82711acea39\"</etag><size>11792</size><storageclass>STANDARD</storageclass></contents><contents><key>lead_scoring/mappings_contacts_100/interactions.csv</key><lastmodified>2019-03-14T15:37:13.000Z</lastmodified><etag>\"c7cf616f7fc9450514f1c2a15bdc9848\"</etag><size>38834</size><storageclass>STANDARD</storageclass></contents><contents><key>lead_scoring/mappings_contacts_100/previous_leads.csv</key><lastmodified>2019-03-14T15:37:13.000Z</lastmodified><etag>\"b7eb1434797657f2c9f7d577ed128bd8\"</etag><size>2475</size><storageclass>STANDARD</storageclass></contents><contents><key>lead_scoring/mappings_contacts_1000/.ipynb_checkpoints/interactions-checkpoint.csv</key><lastmodified>2019-08-08T01:56:26.000Z</lastmodified><etag>\"b337a75066b634b3f0b0f4dd7160ff1b\"</etag><size>464580</size><storageclass>STANDARD</storageclass></contents><contents><key>lead_scoring/mappings_contacts_1000/contacts.csv</key><lastmodified>2019-08-08T01:52:11.000Z</lastmodified><etag>\"8aedd845a6431473b2a5ee1851222d04\"</etag><size>22985</size><storageclass>STANDARD</storageclass></contents><contents><key>lead_scoring/mappings_contacts_1000/customers.csv</key><lastmodified>2019-08-11T01:22:01.000Z</lastmodified><etag>\"c1cfc60f79837a3bf349b63b7705091b\"</etag><size>129513</size><storageclass>STANDARD</storageclass></contents><contents><key>lead_scoring/mappings_contacts_1000/interactions.csv</key><lastmodified>2019-08-11T01:22:01.000Z</lastmodified><etag>\"210cc79439779d5f72ae84aee346ce5f\"</etag><size>477813</size><storageclass>STANDARD</storageclass></contents><contents><key>lead_scoring/mappings_contacts_1000/previous_leads.csv</key><lastmodified>2019-08-11T01:22:01.000Z</lastmodified><etag>\"2a488fcddffce8f1421daa65cfa9d187\"</etag><size>22433</size><storageclass>STANDARD</storageclass></contents><contents><key>lead_scoring/mappings_contacts_100000/contacts.csv</key><lastmodified>2019-03-14T17:38:03.000Z</lastmodified><etag>\"01c9976947c063f9b5159cb5a6d1f682-2\"</etag><size>12141615</size><storageclass>STANDARD</storageclass></contents><contents><key>lead_scoring/mappings_contacts_100000/interactions.csv</key><lastmodified>2019-03-14T17:38:03.000Z</lastmodified><etag>\"d66fc8733883b6c2e6a89a60740dc5d1-6\"</etag><size>47156841</size><storageclass>STANDARD</storageclass></contents><contents><key>lead_scoring/mappings_contacts_100000/previous_leads.csv</key><lastmodified>2019-03-14T17:38:49.000Z</lastmodified><etag>\"651cad4ee1a50e34d5d68e6cf1642f62\"</etag><size>2244028</size><storageclass>STANDARD</storageclass></contents><contents><key>lead_scoring/sample_data/contacts_1000/.ipynb_checkpoints/interactions-checkpoint.csv</key><lastmodified>2019-08-08T01:56:20.000Z</lastmodified><etag>\"a8b97e471f68e96e232866496489347d\"</etag><size>654916</size><storageclass>STANDARD</storageclass></contents><contents><key>lead_scoring/sample_data/contacts_1000/.ipynb_checkpoints/previous_leads-checkpoint.csv</key><lastmodified>2019-08-08T01:56:20.000Z</lastmodified><etag>\"2ff1c0a9777356e6ccea53118b7490d7\"</etag><size>22988</size><storageclass>STANDARD</storageclass></contents><contents><key>lead_scoring/sample_data/contacts_1000/contacts.csv</key><lastmodified>2019-08-08T01:56:20.000Z</lastmodified><etag>\"a1544c5edff7d28ee46a1e8b5fa00d83\"</etag><size>151775</size><storageclass>STANDARD</storageclass></contents><contents><key>lead_scoring/sample_data/contacts_1000/interactions.csv</key><lastmodified>2019-08-08T01:56:20.000Z</lastmodified><etag>\"f2e226b6814e3cb1339edb51b784fc79\"</etag><size>643621</size><storageclass>STANDARD</storageclass></contents><contents><key>lead_scoring/sample_data/contacts_1000/previous_leads.csv</key><lastmodified>2019-08-08T01:56:20.000Z</lastmodified><etag>\"e123a9ebf8ed0b476d9da441a947e7d3\"</etag><size>21976</size><storageclass>STANDARD</storageclass></contents><contents><key>lead_scoring_ml_apps/</key><lastmodified>2019-11-20T19:31:36.000Z</lastmodified><etag>\"d41d8cd98f00b204e9800998ecf8427e\"</etag><size>0</size><storageclass>STANDARD</storageclass></contents><contents><key>lead_scoring_ml_apps/customers.csv</key><lastmodified>2019-11-20T19:32:34.000Z</lastmodified><etag>\"434859c0d26bcf0e3d9a81eb92bccf3d\"</etag><size>131724</size><storageclass>STANDARD</storageclass></contents><contents><key>lead_scoring_ml_apps/interactions.csv</key><lastmodified>2019-11-20T19:32:34.000Z</lastmodified><etag>\"dec9f1ce5866f6dd8dd4f475dc9b6c58\"</etag><size>501158</size><storageclass>STANDARD</storageclass></contents><contents><key>lead_scoring_ml_apps/previous_leads.csv</key><lastmodified>2019-11-20T19:32:33.000Z</lastmodified><etag>\"0f2383cabffca1614680baff8c42c1e6\"</etag><size>22749</size><storageclass>STANDARD</storageclass></contents><contents><key>nyc_taxi_entityset</key><lastmodified>2019-08-21T19:46:39.000Z</lastmodified><etag>\"2fcc344b69748896f761a40b2290b87d-6\"</etag><size>274636800</size><storageclass>STANDARD</storageclass></contents><contents><key>nyc_taxi_entityset_single_table.tar</key><lastmodified>2019-08-27T20:39:58.000Z</lastmodified><etag>\"000d5b513e6ba29eda9eed5966090a57-6\"</etag><size>274626560</size><storageclass>STANDARD</storageclass></contents><contents><key>nyc_taxi_entityset_test.tar</key><lastmodified>2019-08-27T22:37:34.000Z</lastmodified><etag>\"d78dc6dbe6c59076fb26dcac07f8a093-2\"</etag><size>77271040</size><storageclass>STANDARD</storageclass></contents><contents><key>nyc_taxi_entityset_train.tar</key><lastmodified>2019-08-27T22:24:40.000Z</lastmodified><etag>\"9a0b7d839e16d1daac09f0154ae0ad8e-4\"</etag><size>182210560</size><storageclass>STANDARD</storageclass></contents><contents><key>online-retail-logs.csv</key><lastmodified>2018-04-26T02:24:05.000Z</lastmodified><etag>\"3aa9dab52adc2a5d8b63291c5bb53e49-3\"</etag><size>48039722</size><storageclass>STANDARD</storageclass></contents><contents><key>spam_text_messages_modified.csv</key><lastmodified>2020-10-28T19:30:16.000Z</lastmodified><etag>\"27f74d90c56f61021d3ef067a28acb68\"</etag><size>279427</size><storageclass>STANDARD</storageclass></contents><contents><key>spend &gt;$50, next 30 days.csv</key><lastmodified>2018-04-26T13:45:57.000Z</lastmodified><etag>\"3fa65d40fa7fc49ce3093932c59a8d1b\"</etag><size>28499</size><storageclass>STANDARD</storageclass></contents></listbucketresult></body></html>"
            ]
          },
          "metadata": {
            "tags": []
          },
          "execution_count": 4
        }
      ]
    },
    {
      "cell_type": "code",
      "metadata": {
        "id": "1yR1AAO_XrEz"
      },
      "source": [
        "dct = {}\n",
        "for contents in soup.find_all(\"contents\"):\n",
        "  for child in contents.children:\n",
        "    dct[child.name] = dct.get(child.name, []) + [child.text]"
      ],
      "execution_count": null,
      "outputs": []
    },
    {
      "cell_type": "code",
      "metadata": {
        "colab": {
          "base_uri": "https://localhost:8080/"
        },
        "id": "eJC3wiidfOBn",
        "outputId": "839a91f6-abec-4c32-e2ba-f7cc718b9f7a"
      },
      "source": [
        "for key in dct:\n",
        "  dct[key] = pd.Series(dct[key])\n",
        "  print(key, ' ->', len(dct[key]))"
      ],
      "execution_count": null,
      "outputs": [
        {
          "output_type": "stream",
          "text": [
            "key  -> 66\n",
            "lastmodified  -> 66\n",
            "etag  -> 66\n",
            "size  -> 66\n",
            "storageclass  -> 66\n",
            "owner  -> 2\n"
          ],
          "name": "stdout"
        }
      ]
    },
    {
      "cell_type": "code",
      "metadata": {
        "id": "4lOUmnsFeuJ1"
      },
      "source": [
        "df = pd.DataFrame(dct)"
      ],
      "execution_count": null,
      "outputs": []
    },
    {
      "cell_type": "code",
      "metadata": {
        "colab": {
          "base_uri": "https://localhost:8080/",
          "height": 213
        },
        "id": "Pv-aJC9onPcc",
        "outputId": "ea1143b1-c6e2-4927-ca35-f05b71c495e8"
      },
      "source": [
        "df.head(3)"
      ],
      "execution_count": null,
      "outputs": [
        {
          "output_type": "execute_result",
          "data": {
            "text/html": [
              "<div>\n",
              "<style scoped>\n",
              "    .dataframe tbody tr th:only-of-type {\n",
              "        vertical-align: middle;\n",
              "    }\n",
              "\n",
              "    .dataframe tbody tr th {\n",
              "        vertical-align: top;\n",
              "    }\n",
              "\n",
              "    .dataframe thead th {\n",
              "        text-align: right;\n",
              "    }\n",
              "</style>\n",
              "<table border=\"1\" class=\"dataframe\">\n",
              "  <thead>\n",
              "    <tr style=\"text-align: right;\">\n",
              "      <th></th>\n",
              "      <th>key</th>\n",
              "      <th>lastmodified</th>\n",
              "      <th>etag</th>\n",
              "      <th>size</th>\n",
              "      <th>storageclass</th>\n",
              "      <th>owner</th>\n",
              "    </tr>\n",
              "  </thead>\n",
              "  <tbody>\n",
              "    <tr>\n",
              "      <th>0</th>\n",
              "      <td>OpenSource_OpenGraph_1200x630px-evalml.png</td>\n",
              "      <td>2021-01-28T19:54:41.000Z</td>\n",
              "      <td>\"d11e7678399c259cd7ea37cc1788db08\"</td>\n",
              "      <td>119144</td>\n",
              "      <td>STANDARD</td>\n",
              "      <td>da6b1c94f3367024e23b0e2fe0122f27b32de63c3e7a3e...</td>\n",
              "    </tr>\n",
              "    <tr>\n",
              "      <th>1</th>\n",
              "      <td>OpenSource_OpenGraph_1200x630px-featuretools.png</td>\n",
              "      <td>2021-01-21T20:36:42.000Z</td>\n",
              "      <td>\"f12b7710083ecf9b35210a98ee44e1ca\"</td>\n",
              "      <td>98252</td>\n",
              "      <td>STANDARD</td>\n",
              "      <td>da6b1c94f3367024e23b0e2fe0122f27b32de63c3e7a3e...</td>\n",
              "    </tr>\n",
              "    <tr>\n",
              "      <th>2</th>\n",
              "      <td>Take-Home Interview Content/</td>\n",
              "      <td>2020-12-10T16:30:13.000Z</td>\n",
              "      <td>\"d41d8cd98f00b204e9800998ecf8427e\"</td>\n",
              "      <td>0</td>\n",
              "      <td>STANDARD</td>\n",
              "      <td>NaN</td>\n",
              "    </tr>\n",
              "  </tbody>\n",
              "</table>\n",
              "</div>"
            ],
            "text/plain": [
              "                                                key  ...                                              owner\n",
              "0        OpenSource_OpenGraph_1200x630px-evalml.png  ...  da6b1c94f3367024e23b0e2fe0122f27b32de63c3e7a3e...\n",
              "1  OpenSource_OpenGraph_1200x630px-featuretools.png  ...  da6b1c94f3367024e23b0e2fe0122f27b32de63c3e7a3e...\n",
              "2                      Take-Home Interview Content/  ...                                                NaN\n",
              "\n",
              "[3 rows x 6 columns]"
            ]
          },
          "metadata": {
            "tags": []
          },
          "execution_count": 8
        }
      ]
    },
    {
      "cell_type": "code",
      "metadata": {
        "id": "kb9FPG-8lcrG"
      },
      "source": [
        "df.to_csv(\"kdnuggets_statics.csv\", index=False)"
      ],
      "execution_count": null,
      "outputs": []
    },
    {
      "cell_type": "markdown",
      "metadata": {
        "id": "1Tr71ZS_0YGO"
      },
      "source": [
        "## Scrap and Save Data"
      ]
    },
    {
      "cell_type": "code",
      "metadata": {
        "id": "kElHxPumqEbJ"
      },
      "source": [
        "ctx = ssl.create_default_context()\n",
        "ctx.check_hostname = False\n",
        "ctx.verify_mode = ssl.CERT_NONE"
      ],
      "execution_count": null,
      "outputs": []
    },
    {
      "cell_type": "code",
      "metadata": {
        "id": "-r_hFLFEyuVr"
      },
      "source": [
        "from google.colab import drive\n",
        "drive.mount('/gdrive')"
      ],
      "execution_count": null,
      "outputs": []
    },
    {
      "cell_type": "code",
      "metadata": {
        "id": "r_findVXoUQW"
      },
      "source": [
        "edir =   '/gdrive/My Drive/Scrapped_Data/'\n",
        "!mkdir edir\n",
        " \n",
        "for row in range(len(df.index)):\n",
        "  #1.0 - Process Table Data \n",
        "  end = df.iloc[row,0]\n",
        "  if end.endswith('/'): continue\n",
        "  end = end.strip().replace(' ','-')\n",
        "  \n",
        " \n",
        "  #2.0 - Merge to form URL\n",
        "  url = store + '/' + end\n",
        " \n",
        " \n",
        "  #3.0 - API call\n",
        "  try: file = urllib.request.urlopen(url, context = ctx)\n",
        "  except: continue\n",
        "  \n",
        "  #4.0 - Write to file\n",
        "  dir = edir + end.replace('/','-')\n",
        "  fw = open(dir, 'wb')\n",
        "  fw.write(file.read())\n",
        "  fw.close()"
      ],
      "execution_count": null,
      "outputs": []
    },
    {
      "cell_type": "markdown",
      "metadata": {
        "id": "0ANQO-_csdHx"
      },
      "source": [
        "# The End"
      ]
    },
    {
      "cell_type": "markdown",
      "metadata": {
        "id": "1nWt7JAS2kPx"
      },
      "source": [
        " \n",
        "<p> \n",
        "  Author: Alao David I. <br/>\n",
        "  Date: 12-08-2021\n",
        "  <!--ul>\n",
        "    <li>Author: Alao David I.</li>\n",
        "    <li>Date: 12th of Aug. 2021</li>\n",
        "  </ul-->\n",
        " \n",
        "  <a href=\"https://bit.ly/3kkaHhz\">\n",
        "    <img align=\"right\" height=100 width=100 src=\"https://cvs-disease.herokuapp.com/static/images/profile.259def32692b.jpeg\" /> </a>\n",
        "</p>"
      ]
    },
    {
      "cell_type": "markdown",
      "metadata": {
        "id": "2STqcwEH46K5"
      },
      "source": [
        " \n",
        "|   |   |   |\n",
        "|:--|:--|:--|\n",
        "[GitHub](https://GitHub.com/invest41/) | [Portfolio](https://bit.ly/3kkaHhz) | [Resumé](https://github.com/invest41/Resume/blob/main/David's%20Resume.pdf)"
      ]
    }
  ]
}